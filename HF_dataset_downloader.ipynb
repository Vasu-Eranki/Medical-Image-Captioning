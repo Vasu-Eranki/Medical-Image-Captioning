{
 "cells": [
  {
   "cell_type": "code",
   "execution_count": 1,
   "id": "f044b2bb",
   "metadata": {},
   "outputs": [
    {
     "name": "stdout",
     "output_type": "stream",
     "text": [
      "/Users/simranmasand/Downloads/all_data\n"
     ]
    }
   ],
   "source": [
    "%cd 'all_data'"
   ]
  },
  {
   "cell_type": "code",
   "execution_count": 4,
   "id": "14ceba41",
   "metadata": {},
   "outputs": [],
   "source": [
    "import pandas as pd\n",
    "import numpy as np\n",
    "import tensorflow as tf\n",
    "import os\n",
    "import cv2\n",
    "# from google.colab.patches import cv2_imshow\n",
    "import re\n",
    "from bs4 import BeautifulSoup #for reading xml file\n",
    "import matplotlib.pyplot as plt\n",
    "from wordcloud import WordCloud, STOPWORDS  #for plotting wordcloud\n",
    "from tqdm import tqdm\n",
    "from PIL import Image    \n",
    "from tensorflow.keras.utils import load_img\n",
    "from tensorflow.keras.utils import img_to_array\n",
    "from datasets import load_dataset\n",
    "from datasets import load_from_disk"
   ]
  },
  {
   "cell_type": "code",
   "execution_count": 10,
   "id": "8244ea1b",
   "metadata": {},
   "outputs": [],
   "source": [
    "checking_token = pd.read_pickle(\"../cs263_final/clip/roco/ViT-B_32_train_tokens.pkl\")"
   ]
  },
  {
   "cell_type": "code",
   "execution_count": 20,
   "id": "362adce9",
   "metadata": {},
   "outputs": [
    {
     "data": {
      "text/plain": [
       "658"
      ]
     },
     "execution_count": 20,
     "metadata": {},
     "output_type": "execute_result"
    }
   ],
   "source": [
    "(checking_token[2])"
   ]
  },
  {
   "cell_type": "code",
   "execution_count": 22,
   "id": "c5cdf6af",
   "metadata": {},
   "outputs": [
    {
     "data": {
      "text/html": [
       "<div>\n",
       "<style scoped>\n",
       "    .dataframe tbody tr th:only-of-type {\n",
       "        vertical-align: middle;\n",
       "    }\n",
       "\n",
       "    .dataframe tbody tr th {\n",
       "        vertical-align: top;\n",
       "    }\n",
       "\n",
       "    .dataframe thead th {\n",
       "        text-align: right;\n",
       "    }\n",
       "</style>\n",
       "<table border=\"1\" class=\"dataframe\">\n",
       "  <thead>\n",
       "    <tr style=\"text-align: right;\">\n",
       "      <th></th>\n",
       "      <th>id</th>\n",
       "      <th>name</th>\n",
       "      <th>caption</th>\n",
       "    </tr>\n",
       "  </thead>\n",
       "  <tbody>\n",
       "    <tr>\n",
       "      <th>0</th>\n",
       "      <td>ROCO_00002</td>\n",
       "      <td>PMC4083729_AMHSR-4-14-g002.jpg</td>\n",
       "      <td>Computed tomography scan in axial view showin...</td>\n",
       "    </tr>\n",
       "    <tr>\n",
       "      <th>1</th>\n",
       "      <td>ROCO_00003</td>\n",
       "      <td>PMC2837471_IJD2009-150251.001.jpg</td>\n",
       "      <td>Bacterial contamination occurred after comple...</td>\n",
       "    </tr>\n",
       "    <tr>\n",
       "      <th>2</th>\n",
       "      <td>ROCO_00004</td>\n",
       "      <td>PMC2505281_11999_2007_30_Fig6_HTML.jpg</td>\n",
       "      <td>The patient had residual paralysis of the han...</td>\n",
       "    </tr>\n",
       "    <tr>\n",
       "      <th>3</th>\n",
       "      <td>ROCO_00005</td>\n",
       "      <td>PMC3745845_IJD2013-683423.005.jpg</td>\n",
       "      <td>Panoramic radiograph after immediate loading.\\n</td>\n",
       "    </tr>\n",
       "    <tr>\n",
       "      <th>4</th>\n",
       "      <td>ROCO_00007</td>\n",
       "      <td>PMC4917066_amjcaserep-17-301-g001.jpg</td>\n",
       "      <td>Plain abdomen x-ray: Multiple air levels at t...</td>\n",
       "    </tr>\n",
       "    <tr>\n",
       "      <th>...</th>\n",
       "      <td>...</td>\n",
       "      <td>...</td>\n",
       "      <td>...</td>\n",
       "    </tr>\n",
       "    <tr>\n",
       "      <th>65445</th>\n",
       "      <td>ROCO_81819</td>\n",
       "      <td>PMC3517833_CRIM.HEMATOLOGY2012-490438.001.jpg</td>\n",
       "      <td>Initial CT abdomen with contrast showing a di...</td>\n",
       "    </tr>\n",
       "    <tr>\n",
       "      <th>65446</th>\n",
       "      <td>ROCO_81820</td>\n",
       "      <td>PMC5487234_rb-50-03-0190-g13.jpg</td>\n",
       "      <td>44-year-old male patient after surgical amput...</td>\n",
       "    </tr>\n",
       "    <tr>\n",
       "      <th>65447</th>\n",
       "      <td>ROCO_81821</td>\n",
       "      <td>PMC2974222_kjr-11-612-g001.jpg</td>\n",
       "      <td>Primary pulmonary tuberculosis in 18-year-old...</td>\n",
       "    </tr>\n",
       "    <tr>\n",
       "      <th>65448</th>\n",
       "      <td>ROCO_81822</td>\n",
       "      <td>PMC3532764_AJNS-7-151-g002.jpg</td>\n",
       "      <td>MRI brain with gadolinium, coronal view, show...</td>\n",
       "    </tr>\n",
       "    <tr>\n",
       "      <th>65449</th>\n",
       "      <td>ROCO_81823</td>\n",
       "      <td>PMC3509000_pone.0050319.g002.jpg</td>\n",
       "      <td>Contrast-enhanced 3D MRL image of the lower e...</td>\n",
       "    </tr>\n",
       "  </tbody>\n",
       "</table>\n",
       "<p>65450 rows × 3 columns</p>\n",
       "</div>"
      ],
      "text/plain": [
       "               id                                           name  \\\n",
       "0      ROCO_00002                 PMC4083729_AMHSR-4-14-g002.jpg   \n",
       "1      ROCO_00003              PMC2837471_IJD2009-150251.001.jpg   \n",
       "2      ROCO_00004         PMC2505281_11999_2007_30_Fig6_HTML.jpg   \n",
       "3      ROCO_00005              PMC3745845_IJD2013-683423.005.jpg   \n",
       "4      ROCO_00007          PMC4917066_amjcaserep-17-301-g001.jpg   \n",
       "...           ...                                            ...   \n",
       "65445  ROCO_81819  PMC3517833_CRIM.HEMATOLOGY2012-490438.001.jpg   \n",
       "65446  ROCO_81820               PMC5487234_rb-50-03-0190-g13.jpg   \n",
       "65447  ROCO_81821                 PMC2974222_kjr-11-612-g001.jpg   \n",
       "65448  ROCO_81822                 PMC3532764_AJNS-7-151-g002.jpg   \n",
       "65449  ROCO_81823               PMC3509000_pone.0050319.g002.jpg   \n",
       "\n",
       "                                                 caption  \n",
       "0       Computed tomography scan in axial view showin...  \n",
       "1       Bacterial contamination occurred after comple...  \n",
       "2       The patient had residual paralysis of the han...  \n",
       "3        Panoramic radiograph after immediate loading.\\n  \n",
       "4       Plain abdomen x-ray: Multiple air levels at t...  \n",
       "...                                                  ...  \n",
       "65445   Initial CT abdomen with contrast showing a di...  \n",
       "65446   44-year-old male patient after surgical amput...  \n",
       "65447   Primary pulmonary tuberculosis in 18-year-old...  \n",
       "65448   MRI brain with gadolinium, coronal view, show...  \n",
       "65449   Contrast-enhanced 3D MRL image of the lower e...  \n",
       "\n",
       "[65450 rows x 3 columns]"
      ]
     },
     "execution_count": 22,
     "metadata": {},
     "output_type": "execute_result"
    }
   ],
   "source": [
    "pd.read_csv(\"train/radiologytraindata.csv\")"
   ]
  },
  {
   "cell_type": "code",
   "execution_count": 23,
   "id": "ef307be3",
   "metadata": {},
   "outputs": [
    {
     "data": {
      "text/html": [
       "<div>\n",
       "<style scoped>\n",
       "    .dataframe tbody tr th:only-of-type {\n",
       "        vertical-align: middle;\n",
       "    }\n",
       "\n",
       "    .dataframe tbody tr th {\n",
       "        vertical-align: top;\n",
       "    }\n",
       "\n",
       "    .dataframe thead th {\n",
       "        text-align: right;\n",
       "    }\n",
       "</style>\n",
       "<table border=\"1\" class=\"dataframe\">\n",
       "  <thead>\n",
       "    <tr style=\"text-align: right;\">\n",
       "      <th></th>\n",
       "      <th>Unnamed: 0</th>\n",
       "      <th>id</th>\n",
       "      <th>file_name</th>\n",
       "      <th>caption</th>\n",
       "    </tr>\n",
       "  </thead>\n",
       "  <tbody>\n",
       "    <tr>\n",
       "      <th>0</th>\n",
       "      <td>0</td>\n",
       "      <td>ROCO_00002</td>\n",
       "      <td>PMC4083729_AMHSR-4-14-g002.jpg</td>\n",
       "      <td>Computed tomography scan in axial view showin...</td>\n",
       "    </tr>\n",
       "    <tr>\n",
       "      <th>1</th>\n",
       "      <td>1</td>\n",
       "      <td>ROCO_00003</td>\n",
       "      <td>PMC2837471_IJD2009-150251.001.jpg</td>\n",
       "      <td>Bacterial contamination occurred after comple...</td>\n",
       "    </tr>\n",
       "    <tr>\n",
       "      <th>2</th>\n",
       "      <td>2</td>\n",
       "      <td>ROCO_00004</td>\n",
       "      <td>PMC2505281_11999_2007_30_Fig6_HTML.jpg</td>\n",
       "      <td>The patient had residual paralysis of the han...</td>\n",
       "    </tr>\n",
       "    <tr>\n",
       "      <th>3</th>\n",
       "      <td>3</td>\n",
       "      <td>ROCO_00005</td>\n",
       "      <td>PMC3745845_IJD2013-683423.005.jpg</td>\n",
       "      <td>Panoramic radiograph after immediate loading.\\n</td>\n",
       "    </tr>\n",
       "    <tr>\n",
       "      <th>4</th>\n",
       "      <td>4</td>\n",
       "      <td>ROCO_00007</td>\n",
       "      <td>PMC4917066_amjcaserep-17-301-g001.jpg</td>\n",
       "      <td>Plain abdomen x-ray: Multiple air levels at t...</td>\n",
       "    </tr>\n",
       "    <tr>\n",
       "      <th>...</th>\n",
       "      <td>...</td>\n",
       "      <td>...</td>\n",
       "      <td>...</td>\n",
       "      <td>...</td>\n",
       "    </tr>\n",
       "    <tr>\n",
       "      <th>65445</th>\n",
       "      <td>65445</td>\n",
       "      <td>ROCO_81819</td>\n",
       "      <td>PMC3517833_CRIM.HEMATOLOGY2012-490438.001.jpg</td>\n",
       "      <td>Initial CT abdomen with contrast showing a di...</td>\n",
       "    </tr>\n",
       "    <tr>\n",
       "      <th>65446</th>\n",
       "      <td>65446</td>\n",
       "      <td>ROCO_81820</td>\n",
       "      <td>PMC5487234_rb-50-03-0190-g13.jpg</td>\n",
       "      <td>44-year-old male patient after surgical amput...</td>\n",
       "    </tr>\n",
       "    <tr>\n",
       "      <th>65447</th>\n",
       "      <td>65447</td>\n",
       "      <td>ROCO_81821</td>\n",
       "      <td>PMC2974222_kjr-11-612-g001.jpg</td>\n",
       "      <td>Primary pulmonary tuberculosis in 18-year-old...</td>\n",
       "    </tr>\n",
       "    <tr>\n",
       "      <th>65448</th>\n",
       "      <td>65448</td>\n",
       "      <td>ROCO_81822</td>\n",
       "      <td>PMC3532764_AJNS-7-151-g002.jpg</td>\n",
       "      <td>MRI brain with gadolinium, coronal view, show...</td>\n",
       "    </tr>\n",
       "    <tr>\n",
       "      <th>65449</th>\n",
       "      <td>65449</td>\n",
       "      <td>ROCO_81823</td>\n",
       "      <td>PMC3509000_pone.0050319.g002.jpg</td>\n",
       "      <td>Contrast-enhanced 3D MRL image of the lower e...</td>\n",
       "    </tr>\n",
       "  </tbody>\n",
       "</table>\n",
       "<p>65450 rows × 4 columns</p>\n",
       "</div>"
      ],
      "text/plain": [
       "       Unnamed: 0          id                                      file_name  \\\n",
       "0               0  ROCO_00002                 PMC4083729_AMHSR-4-14-g002.jpg   \n",
       "1               1  ROCO_00003              PMC2837471_IJD2009-150251.001.jpg   \n",
       "2               2  ROCO_00004         PMC2505281_11999_2007_30_Fig6_HTML.jpg   \n",
       "3               3  ROCO_00005              PMC3745845_IJD2013-683423.005.jpg   \n",
       "4               4  ROCO_00007          PMC4917066_amjcaserep-17-301-g001.jpg   \n",
       "...           ...         ...                                            ...   \n",
       "65445       65445  ROCO_81819  PMC3517833_CRIM.HEMATOLOGY2012-490438.001.jpg   \n",
       "65446       65446  ROCO_81820               PMC5487234_rb-50-03-0190-g13.jpg   \n",
       "65447       65447  ROCO_81821                 PMC2974222_kjr-11-612-g001.jpg   \n",
       "65448       65448  ROCO_81822                 PMC3532764_AJNS-7-151-g002.jpg   \n",
       "65449       65449  ROCO_81823               PMC3509000_pone.0050319.g002.jpg   \n",
       "\n",
       "                                                 caption  \n",
       "0       Computed tomography scan in axial view showin...  \n",
       "1       Bacterial contamination occurred after comple...  \n",
       "2       The patient had residual paralysis of the han...  \n",
       "3        Panoramic radiograph after immediate loading.\\n  \n",
       "4       Plain abdomen x-ray: Multiple air levels at t...  \n",
       "...                                                  ...  \n",
       "65445   Initial CT abdomen with contrast showing a di...  \n",
       "65446   44-year-old male patient after surgical amput...  \n",
       "65447   Primary pulmonary tuberculosis in 18-year-old...  \n",
       "65448   MRI brain with gadolinium, coronal view, show...  \n",
       "65449   Contrast-enhanced 3D MRL image of the lower e...  \n",
       "\n",
       "[65450 rows x 4 columns]"
      ]
     },
     "execution_count": 23,
     "metadata": {},
     "output_type": "execute_result"
    }
   ],
   "source": [
    "pd.read_csv(\"train/images/metadata.csv\")"
   ]
  },
  {
   "cell_type": "code",
   "execution_count": 3,
   "id": "b626a707",
   "metadata": {},
   "outputs": [
    {
     "name": "stdout",
     "output_type": "stream",
     "text": [
      "\u001b[34mdatasets\u001b[m\u001b[m       test.pkl       \u001b[34mtrain\u001b[m\u001b[m          \u001b[34mvalidation\u001b[m\u001b[m\r\n",
      "\u001b[34mtest\u001b[m\u001b[m           total_data.pkl train.pkl\r\n"
     ]
    }
   ],
   "source": [
    "!ls"
   ]
  },
  {
   "cell_type": "code",
   "execution_count": 53,
   "id": "39ce90fa",
   "metadata": {},
   "outputs": [
    {
     "data": {
      "text/plain": [
       "'/Users/simranmasand/Downloads/all_data'"
      ]
     },
     "execution_count": 53,
     "metadata": {},
     "output_type": "execute_result"
    }
   ],
   "source": [
    "os.getcwd()"
   ]
  },
  {
   "cell_type": "code",
   "execution_count": 7,
   "id": "8dbac665",
   "metadata": {},
   "outputs": [
    {
     "data": {
      "text/html": [
       "<div>\n",
       "<style scoped>\n",
       "    .dataframe tbody tr th:only-of-type {\n",
       "        vertical-align: middle;\n",
       "    }\n",
       "\n",
       "    .dataframe tbody tr th {\n",
       "        vertical-align: top;\n",
       "    }\n",
       "\n",
       "    .dataframe thead th {\n",
       "        text-align: right;\n",
       "    }\n",
       "</style>\n",
       "<table border=\"1\" class=\"dataframe\">\n",
       "  <thead>\n",
       "    <tr style=\"text-align: right;\">\n",
       "      <th></th>\n",
       "      <th>id</th>\n",
       "      <th>name</th>\n",
       "      <th>caption</th>\n",
       "    </tr>\n",
       "  </thead>\n",
       "  <tbody>\n",
       "    <tr>\n",
       "      <th>0</th>\n",
       "      <td>ROCO_00002</td>\n",
       "      <td>PMC4083729_AMHSR-4-14-g002.jpg</td>\n",
       "      <td>Computed tomography scan in axial view showin...</td>\n",
       "    </tr>\n",
       "    <tr>\n",
       "      <th>1</th>\n",
       "      <td>ROCO_00003</td>\n",
       "      <td>PMC2837471_IJD2009-150251.001.jpg</td>\n",
       "      <td>Bacterial contamination occurred after comple...</td>\n",
       "    </tr>\n",
       "    <tr>\n",
       "      <th>2</th>\n",
       "      <td>ROCO_00004</td>\n",
       "      <td>PMC2505281_11999_2007_30_Fig6_HTML.jpg</td>\n",
       "      <td>The patient had residual paralysis of the han...</td>\n",
       "    </tr>\n",
       "    <tr>\n",
       "      <th>3</th>\n",
       "      <td>ROCO_00005</td>\n",
       "      <td>PMC3745845_IJD2013-683423.005.jpg</td>\n",
       "      <td>Panoramic radiograph after immediate loading.\\n</td>\n",
       "    </tr>\n",
       "    <tr>\n",
       "      <th>4</th>\n",
       "      <td>ROCO_00007</td>\n",
       "      <td>PMC4917066_amjcaserep-17-301-g001.jpg</td>\n",
       "      <td>Plain abdomen x-ray: Multiple air levels at t...</td>\n",
       "    </tr>\n",
       "  </tbody>\n",
       "</table>\n",
       "</div>"
      ],
      "text/plain": [
       "           id                                    name  \\\n",
       "0  ROCO_00002          PMC4083729_AMHSR-4-14-g002.jpg   \n",
       "1  ROCO_00003       PMC2837471_IJD2009-150251.001.jpg   \n",
       "2  ROCO_00004  PMC2505281_11999_2007_30_Fig6_HTML.jpg   \n",
       "3  ROCO_00005       PMC3745845_IJD2013-683423.005.jpg   \n",
       "4  ROCO_00007   PMC4917066_amjcaserep-17-301-g001.jpg   \n",
       "\n",
       "                                             caption  \n",
       "0   Computed tomography scan in axial view showin...  \n",
       "1   Bacterial contamination occurred after comple...  \n",
       "2   The patient had residual paralysis of the han...  \n",
       "3    Panoramic radiograph after immediate loading.\\n  \n",
       "4   Plain abdomen x-ray: Multiple air levels at t...  "
      ]
     },
     "execution_count": 7,
     "metadata": {},
     "output_type": "execute_result"
    }
   ],
   "source": [
    "temp = pd.read_csv('train/radiologytraindata.csv')\n",
    "temp.head()"
   ]
  },
  {
   "cell_type": "code",
   "execution_count": 8,
   "id": "10c3b5bb",
   "metadata": {},
   "outputs": [],
   "source": [
    "temp.rename(columns={\"name\":\"file_name\"},inplace=True)"
   ]
  },
  {
   "cell_type": "code",
   "execution_count": 9,
   "id": "38f5e9f4",
   "metadata": {},
   "outputs": [
    {
     "data": {
      "text/html": [
       "<div>\n",
       "<style scoped>\n",
       "    .dataframe tbody tr th:only-of-type {\n",
       "        vertical-align: middle;\n",
       "    }\n",
       "\n",
       "    .dataframe tbody tr th {\n",
       "        vertical-align: top;\n",
       "    }\n",
       "\n",
       "    .dataframe thead th {\n",
       "        text-align: right;\n",
       "    }\n",
       "</style>\n",
       "<table border=\"1\" class=\"dataframe\">\n",
       "  <thead>\n",
       "    <tr style=\"text-align: right;\">\n",
       "      <th></th>\n",
       "      <th>id</th>\n",
       "      <th>file_name</th>\n",
       "      <th>caption</th>\n",
       "    </tr>\n",
       "  </thead>\n",
       "  <tbody>\n",
       "    <tr>\n",
       "      <th>0</th>\n",
       "      <td>ROCO_00002</td>\n",
       "      <td>PMC4083729_AMHSR-4-14-g002.jpg</td>\n",
       "      <td>Computed tomography scan in axial view showin...</td>\n",
       "    </tr>\n",
       "    <tr>\n",
       "      <th>1</th>\n",
       "      <td>ROCO_00003</td>\n",
       "      <td>PMC2837471_IJD2009-150251.001.jpg</td>\n",
       "      <td>Bacterial contamination occurred after comple...</td>\n",
       "    </tr>\n",
       "    <tr>\n",
       "      <th>2</th>\n",
       "      <td>ROCO_00004</td>\n",
       "      <td>PMC2505281_11999_2007_30_Fig6_HTML.jpg</td>\n",
       "      <td>The patient had residual paralysis of the han...</td>\n",
       "    </tr>\n",
       "    <tr>\n",
       "      <th>3</th>\n",
       "      <td>ROCO_00005</td>\n",
       "      <td>PMC3745845_IJD2013-683423.005.jpg</td>\n",
       "      <td>Panoramic radiograph after immediate loading.\\n</td>\n",
       "    </tr>\n",
       "    <tr>\n",
       "      <th>4</th>\n",
       "      <td>ROCO_00007</td>\n",
       "      <td>PMC4917066_amjcaserep-17-301-g001.jpg</td>\n",
       "      <td>Plain abdomen x-ray: Multiple air levels at t...</td>\n",
       "    </tr>\n",
       "    <tr>\n",
       "      <th>...</th>\n",
       "      <td>...</td>\n",
       "      <td>...</td>\n",
       "      <td>...</td>\n",
       "    </tr>\n",
       "    <tr>\n",
       "      <th>65445</th>\n",
       "      <td>ROCO_81819</td>\n",
       "      <td>PMC3517833_CRIM.HEMATOLOGY2012-490438.001.jpg</td>\n",
       "      <td>Initial CT abdomen with contrast showing a di...</td>\n",
       "    </tr>\n",
       "    <tr>\n",
       "      <th>65446</th>\n",
       "      <td>ROCO_81820</td>\n",
       "      <td>PMC5487234_rb-50-03-0190-g13.jpg</td>\n",
       "      <td>44-year-old male patient after surgical amput...</td>\n",
       "    </tr>\n",
       "    <tr>\n",
       "      <th>65447</th>\n",
       "      <td>ROCO_81821</td>\n",
       "      <td>PMC2974222_kjr-11-612-g001.jpg</td>\n",
       "      <td>Primary pulmonary tuberculosis in 18-year-old...</td>\n",
       "    </tr>\n",
       "    <tr>\n",
       "      <th>65448</th>\n",
       "      <td>ROCO_81822</td>\n",
       "      <td>PMC3532764_AJNS-7-151-g002.jpg</td>\n",
       "      <td>MRI brain with gadolinium, coronal view, show...</td>\n",
       "    </tr>\n",
       "    <tr>\n",
       "      <th>65449</th>\n",
       "      <td>ROCO_81823</td>\n",
       "      <td>PMC3509000_pone.0050319.g002.jpg</td>\n",
       "      <td>Contrast-enhanced 3D MRL image of the lower e...</td>\n",
       "    </tr>\n",
       "  </tbody>\n",
       "</table>\n",
       "<p>65450 rows × 3 columns</p>\n",
       "</div>"
      ],
      "text/plain": [
       "               id                                      file_name  \\\n",
       "0      ROCO_00002                 PMC4083729_AMHSR-4-14-g002.jpg   \n",
       "1      ROCO_00003              PMC2837471_IJD2009-150251.001.jpg   \n",
       "2      ROCO_00004         PMC2505281_11999_2007_30_Fig6_HTML.jpg   \n",
       "3      ROCO_00005              PMC3745845_IJD2013-683423.005.jpg   \n",
       "4      ROCO_00007          PMC4917066_amjcaserep-17-301-g001.jpg   \n",
       "...           ...                                            ...   \n",
       "65445  ROCO_81819  PMC3517833_CRIM.HEMATOLOGY2012-490438.001.jpg   \n",
       "65446  ROCO_81820               PMC5487234_rb-50-03-0190-g13.jpg   \n",
       "65447  ROCO_81821                 PMC2974222_kjr-11-612-g001.jpg   \n",
       "65448  ROCO_81822                 PMC3532764_AJNS-7-151-g002.jpg   \n",
       "65449  ROCO_81823               PMC3509000_pone.0050319.g002.jpg   \n",
       "\n",
       "                                                 caption  \n",
       "0       Computed tomography scan in axial view showin...  \n",
       "1       Bacterial contamination occurred after comple...  \n",
       "2       The patient had residual paralysis of the han...  \n",
       "3        Panoramic radiograph after immediate loading.\\n  \n",
       "4       Plain abdomen x-ray: Multiple air levels at t...  \n",
       "...                                                  ...  \n",
       "65445   Initial CT abdomen with contrast showing a di...  \n",
       "65446   44-year-old male patient after surgical amput...  \n",
       "65447   Primary pulmonary tuberculosis in 18-year-old...  \n",
       "65448   MRI brain with gadolinium, coronal view, show...  \n",
       "65449   Contrast-enhanced 3D MRL image of the lower e...  \n",
       "\n",
       "[65450 rows x 3 columns]"
      ]
     },
     "execution_count": 9,
     "metadata": {},
     "output_type": "execute_result"
    }
   ],
   "source": [
    "temp"
   ]
  },
  {
   "cell_type": "code",
   "execution_count": 4,
   "id": "0c6ec541",
   "metadata": {},
   "outputs": [],
   "source": [
    "#create a function that circulates through train,test,validation and creates a metadata file\n",
    "def meta_generator(folders,root = os.getcwd()):\n",
    "    for fol in folders:\n",
    "        if fol != \"validation\":\n",
    "            path = root+'/'+fol\n",
    "            temp = pd.read_csv(fol+'/radiology'+fol+'data.csv')\n",
    "            temp.rename(columns={\"name\":\"file_name\"},inplace=True)\n",
    "            temp.to_csv(root+'/'+fol+'/images/metadata.csv')\n",
    "        else:\n",
    "            temp = pd.read_csv(fol+'/radiologyvaldata.csv')\n",
    "            temp.rename(columns={\"name\":\"file_name\"},inplace=True)\n",
    "            temp.to_csv(root+'/'+fol+'/images/metadata.csv')\n",
    "\n",
    "        "
   ]
  },
  {
   "cell_type": "code",
   "execution_count": 5,
   "id": "06e23e44",
   "metadata": {},
   "outputs": [],
   "source": [
    "meta_generator([\"train\",\"validation\",\"test\"])"
   ]
  },
  {
   "cell_type": "code",
   "execution_count": 57,
   "id": "747fd6ba",
   "metadata": {},
   "outputs": [
    {
     "name": "stdout",
     "output_type": "stream",
     "text": [
      "\u001b[34mdatasets\u001b[m\u001b[m/       test.pkl        \u001b[34mtrain\u001b[m\u001b[m/          \u001b[34mvalidation\u001b[m\u001b[m/\r\n",
      "\u001b[34mtest\u001b[m\u001b[m/           total_data.pkl  train.pkl\r\n"
     ]
    }
   ],
   "source": [
    "%ls"
   ]
  },
  {
   "cell_type": "markdown",
   "id": "a4d31898",
   "metadata": {},
   "source": [
    "To run PyTorch code on the GPU, use torch.device(\"mps\") analogous to torch.device(\"cuda\") on an Nvidia GPU. Hence, in this example, we move all computations to the GPU:"
   ]
  },
  {
   "cell_type": "code",
   "execution_count": 6,
   "id": "a370945b",
   "metadata": {
    "scrolled": true
   },
   "outputs": [
    {
     "data": {
      "application/vnd.jupyter.widget-view+json": {
       "model_id": "56326713966d45ddb437ff150ef133db",
       "version_major": 2,
       "version_minor": 0
      },
      "text/plain": [
       "Resolving data files:   0%|          | 0/65420 [00:00<?, ?it/s]"
      ]
     },
     "metadata": {},
     "output_type": "display_data"
    },
    {
     "name": "stdout",
     "output_type": "stream",
     "text": [
      "Downloading and preparing dataset imagefolder/default to /Users/simranmasand/.cache/huggingface/datasets/imagefolder/default-f882413a44af1acb/0.0.0/37fbb85cc714a338bea574ac6c7d0b5be5aff46c1862c1989b20e0771199e93f...\n"
     ]
    },
    {
     "data": {
      "application/vnd.jupyter.widget-view+json": {
       "model_id": "dcee50f327ca4a78880a43b9f4a7f683",
       "version_major": 2,
       "version_minor": 0
      },
      "text/plain": [
       "Downloading data files:   0%|          | 0/65420 [00:00<?, ?it/s]"
      ]
     },
     "metadata": {},
     "output_type": "display_data"
    },
    {
     "data": {
      "application/vnd.jupyter.widget-view+json": {
       "model_id": "7d9e8226aefc494c9f7d2bb00b1a4d6c",
       "version_major": 2,
       "version_minor": 0
      },
      "text/plain": [
       "Downloading data files: 0it [00:00, ?it/s]"
      ]
     },
     "metadata": {},
     "output_type": "display_data"
    },
    {
     "data": {
      "application/vnd.jupyter.widget-view+json": {
       "model_id": "65b72ede49c1462ead3f64b16d3e4069",
       "version_major": 2,
       "version_minor": 0
      },
      "text/plain": [
       "Extracting data files: 0it [00:00, ?it/s]"
      ]
     },
     "metadata": {},
     "output_type": "display_data"
    },
    {
     "data": {
      "application/vnd.jupyter.widget-view+json": {
       "model_id": "",
       "version_major": 2,
       "version_minor": 0
      },
      "text/plain": [
       "Generating train split: 0 examples [00:00, ? examples/s]"
      ]
     },
     "metadata": {},
     "output_type": "display_data"
    },
    {
     "name": "stdout",
     "output_type": "stream",
     "text": [
      "Dataset imagefolder downloaded and prepared to /Users/simranmasand/.cache/huggingface/datasets/imagefolder/default-f882413a44af1acb/0.0.0/37fbb85cc714a338bea574ac6c7d0b5be5aff46c1862c1989b20e0771199e93f. Subsequent calls will reuse this data.\n"
     ]
    }
   ],
   "source": [
    "dataset_train = load_dataset(\"imagefolder\", data_dir=\"train/images\", split=\"train\")"
   ]
  },
  {
   "cell_type": "code",
   "execution_count": 11,
   "id": "1ca684bb",
   "metadata": {
    "scrolled": true
   },
   "outputs": [
    {
     "data": {
      "application/vnd.jupyter.widget-view+json": {
       "model_id": "a88f98d35c944b85b81c8775a10d2fda",
       "version_major": 2,
       "version_minor": 0
      },
      "text/plain": [
       "Resolving data files:   0%|          | 0/8176 [00:00<?, ?it/s]"
      ]
     },
     "metadata": {},
     "output_type": "display_data"
    },
    {
     "name": "stdout",
     "output_type": "stream",
     "text": [
      "Downloading and preparing dataset imagefolder/default to /Users/simranmasand/.cache/huggingface/datasets/imagefolder/default-6dacec2d6b7601b8/0.0.0/37fbb85cc714a338bea574ac6c7d0b5be5aff46c1862c1989b20e0771199e93f...\n"
     ]
    },
    {
     "data": {
      "application/vnd.jupyter.widget-view+json": {
       "model_id": "7e128dcedf124c3db223a0bf6e897cdf",
       "version_major": 2,
       "version_minor": 0
      },
      "text/plain": [
       "Downloading data files:   0%|          | 0/8176 [00:00<?, ?it/s]"
      ]
     },
     "metadata": {},
     "output_type": "display_data"
    },
    {
     "data": {
      "application/vnd.jupyter.widget-view+json": {
       "model_id": "37d6509b17494fb0a411cec353c74653",
       "version_major": 2,
       "version_minor": 0
      },
      "text/plain": [
       "Downloading data files: 0it [00:00, ?it/s]"
      ]
     },
     "metadata": {},
     "output_type": "display_data"
    },
    {
     "data": {
      "application/vnd.jupyter.widget-view+json": {
       "model_id": "04a2af508b9e44e1ab20057cd042b7a2",
       "version_major": 2,
       "version_minor": 0
      },
      "text/plain": [
       "Extracting data files: 0it [00:00, ?it/s]"
      ]
     },
     "metadata": {},
     "output_type": "display_data"
    },
    {
     "data": {
      "application/vnd.jupyter.widget-view+json": {
       "model_id": "",
       "version_major": 2,
       "version_minor": 0
      },
      "text/plain": [
       "Generating train split: 0 examples [00:00, ? examples/s]"
      ]
     },
     "metadata": {},
     "output_type": "display_data"
    },
    {
     "name": "stdout",
     "output_type": "stream",
     "text": [
      "Dataset imagefolder downloaded and prepared to /Users/simranmasand/.cache/huggingface/datasets/imagefolder/default-6dacec2d6b7601b8/0.0.0/37fbb85cc714a338bea574ac6c7d0b5be5aff46c1862c1989b20e0771199e93f. Subsequent calls will reuse this data.\n"
     ]
    },
    {
     "data": {
      "application/vnd.jupyter.widget-view+json": {
       "model_id": "dba855781dbb4592915572094148472f",
       "version_major": 2,
       "version_minor": 0
      },
      "text/plain": [
       "  0%|          | 0/1 [00:00<?, ?it/s]"
      ]
     },
     "metadata": {},
     "output_type": "display_data"
    }
   ],
   "source": [
    "dataset_val = load_dataset(\"imagefolder\", data_dir=\"validation/images\")"
   ]
  },
  {
   "cell_type": "code",
   "execution_count": 12,
   "id": "4c1636f2",
   "metadata": {},
   "outputs": [
    {
     "data": {
      "application/vnd.jupyter.widget-view+json": {
       "model_id": "37de59740b0f4d0ba42b23414b7b3e3b",
       "version_major": 2,
       "version_minor": 0
      },
      "text/plain": [
       "Resolving data files:   0%|          | 0/8177 [00:00<?, ?it/s]"
      ]
     },
     "metadata": {},
     "output_type": "display_data"
    },
    {
     "name": "stderr",
     "output_type": "stream",
     "text": [
      "Found cached dataset imagefolder (/Users/simranmasand/.cache/huggingface/datasets/imagefolder/default-ddc5999ccf78ceb8/0.0.0/37fbb85cc714a338bea574ac6c7d0b5be5aff46c1862c1989b20e0771199e93f)\n"
     ]
    },
    {
     "data": {
      "application/vnd.jupyter.widget-view+json": {
       "model_id": "307d4a5717b44381a5337403a29e722f",
       "version_major": 2,
       "version_minor": 0
      },
      "text/plain": [
       "  0%|          | 0/1 [00:00<?, ?it/s]"
      ]
     },
     "metadata": {},
     "output_type": "display_data"
    }
   ],
   "source": [
    "dataset_test = load_dataset(\"imagefolder\", data_dir=\"test/images\")"
   ]
  },
  {
   "cell_type": "code",
   "execution_count": 18,
   "id": "bbfc6665",
   "metadata": {},
   "outputs": [
    {
     "data": {
      "application/vnd.jupyter.widget-view+json": {
       "model_id": "",
       "version_major": 2,
       "version_minor": 0
      },
      "text/plain": [
       "Saving the dataset (0/8 shards):   0%|          | 0/65419 [00:00<?, ? examples/s]"
      ]
     },
     "metadata": {},
     "output_type": "display_data"
    }
   ],
   "source": [
    "dataset_train.save_to_disk('datasets/train')"
   ]
  },
  {
   "cell_type": "code",
   "execution_count": 14,
   "id": "6a22c171",
   "metadata": {},
   "outputs": [
    {
     "data": {
      "application/vnd.jupyter.widget-view+json": {
       "model_id": "",
       "version_major": 2,
       "version_minor": 0
      },
      "text/plain": [
       "Saving the dataset (0/2 shards):   0%|          | 0/8175 [00:00<?, ? examples/s]"
      ]
     },
     "metadata": {},
     "output_type": "display_data"
    }
   ],
   "source": [
    "dataset_val.save_to_disk('datasets/val')"
   ]
  },
  {
   "cell_type": "code",
   "execution_count": 15,
   "id": "ce429d27",
   "metadata": {},
   "outputs": [
    {
     "data": {
      "application/vnd.jupyter.widget-view+json": {
       "model_id": "",
       "version_major": 2,
       "version_minor": 0
      },
      "text/plain": [
       "Saving the dataset (0/2 shards):   0%|          | 0/8176 [00:00<?, ? examples/s]"
      ]
     },
     "metadata": {},
     "output_type": "display_data"
    }
   ],
   "source": [
    "dataset_test.save_to_disk('datasets/test')"
   ]
  },
  {
   "cell_type": "code",
   "execution_count": 5,
   "id": "f8dff365",
   "metadata": {},
   "outputs": [],
   "source": [
    "train_data = load_from_disk('datasets/train')"
   ]
  },
  {
   "cell_type": "code",
   "execution_count": 6,
   "id": "f383d862",
   "metadata": {},
   "outputs": [
    {
     "data": {
      "text/plain": [
       "Dataset({\n",
       "    features: ['image', 'Unnamed: 0', 'id', 'caption'],\n",
       "    num_rows: 65419\n",
       "})"
      ]
     },
     "execution_count": 6,
     "metadata": {},
     "output_type": "execute_result"
    }
   ],
   "source": [
    "train_data"
   ]
  },
  {
   "cell_type": "code",
   "execution_count": 16,
   "id": "704ebdcf",
   "metadata": {
    "scrolled": true
   },
   "outputs": [
    {
     "data": {
      "image/png": "[encoded data removed]",
      "text/plain": [
       "<PIL.JpegImagePlugin.JpegImageFile image mode=RGB size=416x558>"
      ]
     },
     "metadata": {},
     "output_type": "display_data"
    }
   ],
   "source": [
    "display(dataset_train[20][\"image\"])"
   ]
  },
  {
   "cell_type": "code",
   "execution_count": 17,
   "id": "02a76998",
   "metadata": {},
   "outputs": [
    {
     "data": {
      "text/plain": [
       "{'image': <PIL.JpegImagePlugin.JpegImageFile image mode=RGB size=416x558>,\n",
       " 'Unnamed: 0': 26111,\n",
       " 'id': 'ROCO_32588',\n",
       " 'caption': ' CT Brain Scan on Admission Showing an Infarct in the Posterior Right Frontal Lobe\\n'}"
      ]
     },
     "execution_count": 17,
     "metadata": {},
     "output_type": "execute_result"
    }
   ],
   "source": [
    "dataset_train[20]"
   ]
  },
  {
   "cell_type": "code",
   "execution_count": null,
   "id": "c3477744",
   "metadata": {},
   "outputs": [],
   "source": [
    "train_data = load_from_disk('datasets/train')\n",
    "\n",
    "\n",
    "from torch.utils.data import Dataset\n",
    "\n",
    "class ImageCaptioningDataset(Dataset):\n",
    "    def __init__(self, dataset, processor):\n",
    "        self.dataset = dataset\n",
    "        self.processor = processor\n",
    "\n",
    "    def __len__(self):\n",
    "        return len(self.dataset)\n",
    "\n",
    "    def __getitem__(self, idx):\n",
    "        item = self.dataset[idx]\n",
    "\n",
    "        encoding = self.processor(images=item[\"image\"], text=item[\"caption\"], padding=\"max_length\", return_tensors=\"pt\")\n",
    "\n",
    "        # remove batch dimension\n",
    "        encoding = {k:v.squeeze() for k,v in encoding.items()}\n",
    "\n",
    "        return encoding"
   ]
  },
  {
   "cell_type": "code",
   "execution_count": null,
   "id": "627c13f3",
   "metadata": {},
   "outputs": [],
   "source": [
    "from transformers import AutoProcessor, BlipForConditionalGeneration\n",
    "\n",
    "processor = AutoProcessor.from_pretrained(\"Salesforce/blip-image-captioning-base\")\n",
    "model = BlipForConditionalGeneration.from_pretrained(\"Salesforce/blip-image-captioning-base\")"
   ]
  },
  {
   "cell_type": "code",
   "execution_count": null,
   "id": "605c9a8a",
   "metadata": {},
   "outputs": [],
   "source": [
    "train_dataset = ImageCaptioningDataset(train_data, processor)"
   ]
  }
 ],
 "metadata": {
  "kernelspec": {
   "display_name": "Python 3",
   "language": "python",
   "name": "python3"
  },
  "language_info": {
   "codemirror_mode": {
    "name": "ipython",
    "version": 3
   },
   "file_extension": ".py",
   "mimetype": "text/x-python",
   "name": "python",
   "nbconvert_exporter": "python",
   "pygments_lexer": "ipython3",
   "version": "3.8.16"
  }
 },
 "nbformat": 4,
 "nbformat_minor": 5
}
